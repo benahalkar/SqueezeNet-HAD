{
 "cells": [
  {
   "cell_type": "code",
   "execution_count": 4,
   "id": "9f4fd9f7-3a26-42f5-94fa-93791e74f612",
   "metadata": {},
   "outputs": [
    {
     "name": "stdout",
     "output_type": "stream",
     "text": [
      "Defaulting to user installation because normal site-packages is not writeable\n",
      "Requirement already satisfied: torchviz in /home/amp10162/.local/lib/python3.12/site-packages (0.0.2)\n",
      "Requirement already satisfied: torch in /ext3/miniconda3/lib/python3.12/site-packages (from torchviz) (2.2.2)\n",
      "Requirement already satisfied: graphviz in /home/amp10162/.local/lib/python3.12/site-packages (from torchviz) (0.20.3)\n",
      "Requirement already satisfied: filelock in /ext3/miniconda3/lib/python3.12/site-packages (from torch->torchviz) (3.13.1)\n",
      "Requirement already satisfied: typing-extensions>=4.8.0 in /ext3/miniconda3/lib/python3.12/site-packages (from torch->torchviz) (4.9.0)\n",
      "Requirement already satisfied: sympy in /ext3/miniconda3/lib/python3.12/site-packages (from torch->torchviz) (1.12)\n",
      "Requirement already satisfied: networkx in /ext3/miniconda3/lib/python3.12/site-packages (from torch->torchviz) (3.1)\n",
      "Requirement already satisfied: jinja2 in /ext3/miniconda3/lib/python3.12/site-packages (from torch->torchviz) (3.1.3)\n",
      "Requirement already satisfied: fsspec in /home/amp10162/.local/lib/python3.12/site-packages (from torch->torchviz) (2024.3.1)\n",
      "Requirement already satisfied: MarkupSafe>=2.0 in /ext3/miniconda3/lib/python3.12/site-packages (from jinja2->torch->torchviz) (2.1.3)\n",
      "Requirement already satisfied: mpmath>=0.19 in /ext3/miniconda3/lib/python3.12/site-packages (from sympy->torch->torchviz) (1.3.0)\n"
     ]
    }
   ],
   "source": [
    "!pip install torchviz"
   ]
  },
  {
   "cell_type": "code",
   "execution_count": 5,
   "id": "4e23444b-e6bc-458c-b02e-4e3196e5c5bf",
   "metadata": {},
   "outputs": [],
   "source": [
    "import torch\n",
    "import torch.nn as nn\n",
    "import torch.optim as optim\n",
    "import torchvision.transforms as transforms\n",
    "import torchvision.datasets as datasets\n",
    "from torch.utils.data import DataLoader\n",
    "import torch.nn.functional as F\n",
    "from torchsummary import summary\n",
    "from torchviz import make_dot\n"
   ]
  },
  {
   "cell_type": "code",
   "execution_count": 6,
   "id": "1be565b7-6f3b-44a9-bf68-5f095aed9c91",
   "metadata": {},
   "outputs": [],
   "source": [
    "from tqdm import tqdm  # for progres bar"
   ]
  },
  {
   "cell_type": "code",
   "execution_count": 7,
   "id": "fe13970c-1235-4291-8614-9b6ab5b4407e",
   "metadata": {},
   "outputs": [],
   "source": [
    "class Fire(nn.Module):\n",
    "    def __init__(self, in_channels, squeeze_channels, expand1x1_channels, expand3x3_channels):\n",
    "        super(Fire, self).__init__()\n",
    "        self.squeeze = nn.Conv2d(in_channels, squeeze_channels, kernel_size=1)\n",
    "        self.relu_squeeze = nn.ReLU(inplace=True)\n",
    "        self.expand1x1 = nn.Conv2d(squeeze_channels, expand1x1_channels, kernel_size=1)\n",
    "        self.relu_expand1x1 = nn.ReLU(inplace=True)\n",
    "        self.expand3x3 = nn.Conv2d(squeeze_channels, expand3x3_channels, kernel_size=3, padding=1)\n",
    "        self.relu_expand3x3 = nn.ReLU(inplace=True)\n",
    "\n",
    "    def forward(self, x):\n",
    "        x = self.squeeze(x)\n",
    "        x = self.relu_squeeze(x)\n",
    "        out1x1 = self.expand1x1(x)\n",
    "        out1x1 = self.relu_expand1x1(out1x1)\n",
    "        out3x3 = self.expand3x3(x)\n",
    "        out3x3 = self.relu_expand3x3(out3x3)\n",
    "        return torch.cat([out1x1, out3x3], 1)\n",
    "\n",
    "class SqueezeNet_Residual(nn.Module):\n",
    "    def __init__(self, num_classes=1000):\n",
    "        super(SqueezeNet_Residual, self).__init__()\n",
    "        self.conv1 = nn.Conv2d(3, 96, kernel_size=7, stride=2)\n",
    "        self.relu_conv1 = nn.ReLU(inplace=True)\n",
    "        self.pool1 = nn.MaxPool2d(kernel_size=3, stride=2)\n",
    "        self.fire2 = Fire(96, 16, 64, 64)\n",
    "        self.fire3 = Fire(128, 16, 64, 64)\n",
    "        self.fire4 = Fire(128, 32, 128, 128)\n",
    "        self.pool4 = nn.MaxPool2d(kernel_size=3, stride=2)\n",
    "        self.fire5 = Fire(256, 32, 128, 128)\n",
    "        self.fire6 = Fire(256, 48, 192, 192)\n",
    "        self.fire7 = Fire(384, 48, 192, 192)\n",
    "        self.fire8 = Fire(384, 64, 256, 256)\n",
    "        self.pool8 = nn.MaxPool2d(kernel_size=3, stride=2)\n",
    "        self.fire9 = Fire(512, 64, 256, 256)\n",
    "        self.dropout = nn.Dropout(p=0.5)\n",
    "        self.conv10 = nn.Conv2d(512, num_classes, kernel_size=1)\n",
    "        self.relu_conv10 = nn.ReLU(inplace=True)\n",
    "        self.pool10 = nn.AdaptiveAvgPool2d(1)\n",
    "\n",
    "    def forward(self, x):\n",
    "        x = self.conv1(x)\n",
    "        x = self.relu_conv1(x)\n",
    "        x = self.pool1(x)\n",
    "        x = self.fire2(x)\n",
    "        x = self.fire3(x)\n",
    "        bypass_23 = x  \n",
    "        x = self.fire4(x)\n",
    "        x = self.pool4(x)\n",
    "        bypass_45 = x  \n",
    "        x = self.fire5(x)\n",
    "        bypass_67 = x  \n",
    "        x = self.fire6(x)\n",
    "        x = self.fire7(x)\n",
    "        x = self.fire8(x)\n",
    "        x = self.pool8(x)\n",
    "        bypass_89 = x  \n",
    "        x = self.fire9(x)\n",
    "        x = self.dropout(x)\n",
    "        x = self.conv10(x)\n",
    "        x = self.relu_conv10(x)\n",
    "        x = self.pool10(x)\n",
    "        return x\n"
   ]
  },
  {
   "cell_type": "code",
   "execution_count": 8,
   "id": "ab668997-7a07-44fa-80ed-5bf5fdefaa18",
   "metadata": {},
   "outputs": [
    {
     "name": "stdout",
     "output_type": "stream",
     "text": [
      "SqueezeNet_Residual(\n",
      "  (conv1): Conv2d(3, 96, kernel_size=(7, 7), stride=(2, 2))\n",
      "  (relu_conv1): ReLU(inplace=True)\n",
      "  (pool1): MaxPool2d(kernel_size=3, stride=2, padding=0, dilation=1, ceil_mode=False)\n",
      "  (fire2): Fire(\n",
      "    (squeeze): Conv2d(96, 16, kernel_size=(1, 1), stride=(1, 1))\n",
      "    (relu_squeeze): ReLU(inplace=True)\n",
      "    (expand1x1): Conv2d(16, 64, kernel_size=(1, 1), stride=(1, 1))\n",
      "    (relu_expand1x1): ReLU(inplace=True)\n",
      "    (expand3x3): Conv2d(16, 64, kernel_size=(3, 3), stride=(1, 1), padding=(1, 1))\n",
      "    (relu_expand3x3): ReLU(inplace=True)\n",
      "  )\n",
      "  (fire3): Fire(\n",
      "    (squeeze): Conv2d(128, 16, kernel_size=(1, 1), stride=(1, 1))\n",
      "    (relu_squeeze): ReLU(inplace=True)\n",
      "    (expand1x1): Conv2d(16, 64, kernel_size=(1, 1), stride=(1, 1))\n",
      "    (relu_expand1x1): ReLU(inplace=True)\n",
      "    (expand3x3): Conv2d(16, 64, kernel_size=(3, 3), stride=(1, 1), padding=(1, 1))\n",
      "    (relu_expand3x3): ReLU(inplace=True)\n",
      "  )\n",
      "  (fire4): Fire(\n",
      "    (squeeze): Conv2d(128, 32, kernel_size=(1, 1), stride=(1, 1))\n",
      "    (relu_squeeze): ReLU(inplace=True)\n",
      "    (expand1x1): Conv2d(32, 128, kernel_size=(1, 1), stride=(1, 1))\n",
      "    (relu_expand1x1): ReLU(inplace=True)\n",
      "    (expand3x3): Conv2d(32, 128, kernel_size=(3, 3), stride=(1, 1), padding=(1, 1))\n",
      "    (relu_expand3x3): ReLU(inplace=True)\n",
      "  )\n",
      "  (pool4): MaxPool2d(kernel_size=3, stride=2, padding=0, dilation=1, ceil_mode=False)\n",
      "  (fire5): Fire(\n",
      "    (squeeze): Conv2d(256, 32, kernel_size=(1, 1), stride=(1, 1))\n",
      "    (relu_squeeze): ReLU(inplace=True)\n",
      "    (expand1x1): Conv2d(32, 128, kernel_size=(1, 1), stride=(1, 1))\n",
      "    (relu_expand1x1): ReLU(inplace=True)\n",
      "    (expand3x3): Conv2d(32, 128, kernel_size=(3, 3), stride=(1, 1), padding=(1, 1))\n",
      "    (relu_expand3x3): ReLU(inplace=True)\n",
      "  )\n",
      "  (fire6): Fire(\n",
      "    (squeeze): Conv2d(256, 48, kernel_size=(1, 1), stride=(1, 1))\n",
      "    (relu_squeeze): ReLU(inplace=True)\n",
      "    (expand1x1): Conv2d(48, 192, kernel_size=(1, 1), stride=(1, 1))\n",
      "    (relu_expand1x1): ReLU(inplace=True)\n",
      "    (expand3x3): Conv2d(48, 192, kernel_size=(3, 3), stride=(1, 1), padding=(1, 1))\n",
      "    (relu_expand3x3): ReLU(inplace=True)\n",
      "  )\n",
      "  (fire7): Fire(\n",
      "    (squeeze): Conv2d(384, 48, kernel_size=(1, 1), stride=(1, 1))\n",
      "    (relu_squeeze): ReLU(inplace=True)\n",
      "    (expand1x1): Conv2d(48, 192, kernel_size=(1, 1), stride=(1, 1))\n",
      "    (relu_expand1x1): ReLU(inplace=True)\n",
      "    (expand3x3): Conv2d(48, 192, kernel_size=(3, 3), stride=(1, 1), padding=(1, 1))\n",
      "    (relu_expand3x3): ReLU(inplace=True)\n",
      "  )\n",
      "  (fire8): Fire(\n",
      "    (squeeze): Conv2d(384, 64, kernel_size=(1, 1), stride=(1, 1))\n",
      "    (relu_squeeze): ReLU(inplace=True)\n",
      "    (expand1x1): Conv2d(64, 256, kernel_size=(1, 1), stride=(1, 1))\n",
      "    (relu_expand1x1): ReLU(inplace=True)\n",
      "    (expand3x3): Conv2d(64, 256, kernel_size=(3, 3), stride=(1, 1), padding=(1, 1))\n",
      "    (relu_expand3x3): ReLU(inplace=True)\n",
      "  )\n",
      "  (pool8): MaxPool2d(kernel_size=3, stride=2, padding=0, dilation=1, ceil_mode=False)\n",
      "  (fire9): Fire(\n",
      "    (squeeze): Conv2d(512, 64, kernel_size=(1, 1), stride=(1, 1))\n",
      "    (relu_squeeze): ReLU(inplace=True)\n",
      "    (expand1x1): Conv2d(64, 256, kernel_size=(1, 1), stride=(1, 1))\n",
      "    (relu_expand1x1): ReLU(inplace=True)\n",
      "    (expand3x3): Conv2d(64, 256, kernel_size=(3, 3), stride=(1, 1), padding=(1, 1))\n",
      "    (relu_expand3x3): ReLU(inplace=True)\n",
      "  )\n",
      "  (dropout): Dropout(p=0.5, inplace=False)\n",
      "  (conv10): Conv2d(512, 1000, kernel_size=(1, 1), stride=(1, 1))\n",
      "  (relu_conv10): ReLU(inplace=True)\n",
      "  (pool10): AdaptiveAvgPool2d(output_size=1)\n",
      ")\n"
     ]
    }
   ],
   "source": [
    "model = SqueezeNet_Residual(num_classes=1000)  \n",
    "print(model)"
   ]
  },
  {
   "cell_type": "code",
   "execution_count": 9,
   "id": "240a526f-ca5f-4b02-bb32-096b3f918dec",
   "metadata": {},
   "outputs": [
    {
     "name": "stdout",
     "output_type": "stream",
     "text": [
      "----------------------------------------------------------------\n",
      "        Layer (type)               Output Shape         Param #\n",
      "================================================================\n",
      "            Conv2d-1         [-1, 96, 109, 109]          14,208\n",
      "              ReLU-2         [-1, 96, 109, 109]               0\n",
      "         MaxPool2d-3           [-1, 96, 54, 54]               0\n",
      "            Conv2d-4           [-1, 16, 54, 54]           1,552\n",
      "              ReLU-5           [-1, 16, 54, 54]               0\n",
      "            Conv2d-6           [-1, 64, 54, 54]           1,088\n",
      "              ReLU-7           [-1, 64, 54, 54]               0\n",
      "            Conv2d-8           [-1, 64, 54, 54]           9,280\n",
      "              ReLU-9           [-1, 64, 54, 54]               0\n",
      "             Fire-10          [-1, 128, 54, 54]               0\n",
      "           Conv2d-11           [-1, 16, 54, 54]           2,064\n",
      "             ReLU-12           [-1, 16, 54, 54]               0\n",
      "           Conv2d-13           [-1, 64, 54, 54]           1,088\n",
      "             ReLU-14           [-1, 64, 54, 54]               0\n",
      "           Conv2d-15           [-1, 64, 54, 54]           9,280\n",
      "             ReLU-16           [-1, 64, 54, 54]               0\n",
      "             Fire-17          [-1, 128, 54, 54]               0\n",
      "           Conv2d-18           [-1, 32, 54, 54]           4,128\n",
      "             ReLU-19           [-1, 32, 54, 54]               0\n",
      "           Conv2d-20          [-1, 128, 54, 54]           4,224\n",
      "             ReLU-21          [-1, 128, 54, 54]               0\n",
      "           Conv2d-22          [-1, 128, 54, 54]          36,992\n",
      "             ReLU-23          [-1, 128, 54, 54]               0\n",
      "             Fire-24          [-1, 256, 54, 54]               0\n",
      "        MaxPool2d-25          [-1, 256, 26, 26]               0\n",
      "           Conv2d-26           [-1, 32, 26, 26]           8,224\n",
      "             ReLU-27           [-1, 32, 26, 26]               0\n",
      "           Conv2d-28          [-1, 128, 26, 26]           4,224\n",
      "             ReLU-29          [-1, 128, 26, 26]               0\n",
      "           Conv2d-30          [-1, 128, 26, 26]          36,992\n",
      "             ReLU-31          [-1, 128, 26, 26]               0\n",
      "             Fire-32          [-1, 256, 26, 26]               0\n",
      "           Conv2d-33           [-1, 48, 26, 26]          12,336\n",
      "             ReLU-34           [-1, 48, 26, 26]               0\n",
      "           Conv2d-35          [-1, 192, 26, 26]           9,408\n",
      "             ReLU-36          [-1, 192, 26, 26]               0\n",
      "           Conv2d-37          [-1, 192, 26, 26]          83,136\n",
      "             ReLU-38          [-1, 192, 26, 26]               0\n",
      "             Fire-39          [-1, 384, 26, 26]               0\n",
      "           Conv2d-40           [-1, 48, 26, 26]          18,480\n",
      "             ReLU-41           [-1, 48, 26, 26]               0\n",
      "           Conv2d-42          [-1, 192, 26, 26]           9,408\n",
      "             ReLU-43          [-1, 192, 26, 26]               0\n",
      "           Conv2d-44          [-1, 192, 26, 26]          83,136\n",
      "             ReLU-45          [-1, 192, 26, 26]               0\n",
      "             Fire-46          [-1, 384, 26, 26]               0\n",
      "           Conv2d-47           [-1, 64, 26, 26]          24,640\n",
      "             ReLU-48           [-1, 64, 26, 26]               0\n",
      "           Conv2d-49          [-1, 256, 26, 26]          16,640\n",
      "             ReLU-50          [-1, 256, 26, 26]               0\n",
      "           Conv2d-51          [-1, 256, 26, 26]         147,712\n",
      "             ReLU-52          [-1, 256, 26, 26]               0\n",
      "             Fire-53          [-1, 512, 26, 26]               0\n",
      "        MaxPool2d-54          [-1, 512, 12, 12]               0\n",
      "           Conv2d-55           [-1, 64, 12, 12]          32,832\n",
      "             ReLU-56           [-1, 64, 12, 12]               0\n",
      "           Conv2d-57          [-1, 256, 12, 12]          16,640\n",
      "             ReLU-58          [-1, 256, 12, 12]               0\n",
      "           Conv2d-59          [-1, 256, 12, 12]         147,712\n",
      "             ReLU-60          [-1, 256, 12, 12]               0\n",
      "             Fire-61          [-1, 512, 12, 12]               0\n",
      "          Dropout-62          [-1, 512, 12, 12]               0\n",
      "           Conv2d-63         [-1, 1000, 12, 12]         513,000\n",
      "             ReLU-64         [-1, 1000, 12, 12]               0\n",
      "AdaptiveAvgPool2d-65           [-1, 1000, 1, 1]               0\n",
      "================================================================\n",
      "Total params: 1,248,424\n",
      "Trainable params: 1,248,424\n",
      "Non-trainable params: 0\n",
      "----------------------------------------------------------------\n",
      "Input size (MB): 0.57\n",
      "Forward/backward pass size (MB): 88.78\n",
      "Params size (MB): 4.76\n",
      "Estimated Total Size (MB): 94.12\n",
      "----------------------------------------------------------------\n"
     ]
    }
   ],
   "source": [
    "device = torch.device(\"cuda\" if torch.cuda.is_available() else \"cpu\")\n",
    "model.to(device)\n",
    "\n",
    "sample_input = torch.randn(1, 3, 224, 224).to(device)\n",
    "\n",
    "with torch.no_grad():\n",
    "    model.eval()  \n",
    "    output = model(sample_input)\n",
    "\n",
    "summary(model, input_size=(3, 224, 224))"
   ]
  },
  {
   "cell_type": "code",
   "execution_count": 10,
   "id": "70bcf793-74fe-4a3c-a0eb-1e9e2dc34ca9",
   "metadata": {},
   "outputs": [
    {
     "data": {
      "text/plain": [
       "'SqueezeNet_Residual_Model.png'"
      ]
     },
     "execution_count": 10,
     "metadata": {},
     "output_type": "execute_result"
    }
   ],
   "source": [
    "dot = make_dot(model(sample_input), params=dict(model.named_parameters()))\n",
    "dot.format = 'png'\n",
    "dot.render(\"SqueezeNet_Residual_Model\", format=\"png\", cleanup=True)"
   ]
  },
  {
   "cell_type": "code",
   "execution_count": 11,
   "id": "10f59aad-95e1-477e-8c4d-7c80343505a9",
   "metadata": {},
   "outputs": [],
   "source": [
    "# Training on CIFAR 10"
   ]
  },
  {
   "cell_type": "code",
   "execution_count": 12,
   "id": "d3c0df0a-1af4-4676-abff-b9a2b64b67a7",
   "metadata": {},
   "outputs": [
    {
     "name": "stdout",
     "output_type": "stream",
     "text": [
      "Files already downloaded and verified\n",
      "Files already downloaded and verified\n"
     ]
    }
   ],
   "source": [
    "# Define the data transformations\n",
    "transform = transforms.Compose([\n",
    "    transforms.Resize((224, 224)),\n",
    "    transforms.ToTensor(),\n",
    "    transforms.Normalize((0.5, 0.5, 0.5), (0.5, 0.5, 0.5))\n",
    "])\n",
    "\n",
    "# Load the CIFAR10 dataset\n",
    "trainset = datasets.CIFAR10(root='./data', train=True, download=True, transform=transform)\n",
    "testset = datasets.CIFAR10(root='./data', train=False, download=True, transform=transform)\n",
    "\n",
    "# Create data loaders\n",
    "trainloader = DataLoader(trainset, batch_size=64, shuffle=True, num_workers=2)\n",
    "testloader = DataLoader(testset, batch_size=64, shuffle=False, num_workers=2)"
   ]
  },
  {
   "cell_type": "code",
   "execution_count": 13,
   "id": "884fb448-419c-4f7e-893e-80a96d9b23c6",
   "metadata": {},
   "outputs": [],
   "source": [
    "device = torch.device(\"cuda\" if torch.cuda.is_available() else \"cpu\")\n",
    "model = SqueezeNet_Residual(num_classes=10).to(device)"
   ]
  },
  {
   "cell_type": "code",
   "execution_count": 18,
   "id": "8fff7d0c-c906-4bd5-96b3-ef75ba9e1e0d",
   "metadata": {},
   "outputs": [
    {
     "name": "stdout",
     "output_type": "stream",
     "text": [
      "[Epoch 1] train=639.622000 val=639.010000 loss=2.302583 time: 45.966183\n",
      "[Epoch 2] train=639.910000 val=639.040000 loss=2.302583 time: 41.664326\n",
      "[Epoch 3] train=640.012000 val=639.040000 loss=2.302583 time: 37.903563\n",
      "[Epoch 4] train=639.904000 val=639.040000 loss=2.302583 time: 41.614129\n",
      "[Epoch 5] train=639.808000 val=639.040000 loss=2.302583 time: 39.895318\n",
      "[Epoch 6] train=639.712000 val=639.040000 loss=2.302583 time: 41.971678\n",
      "[Epoch 7] train=639.904000 val=639.040000 loss=2.302583 time: 38.387306\n",
      "[Epoch 8] train=640.000000 val=639.040000 loss=2.302583 time: 43.406873\n",
      "[Epoch 9] train=639.904000 val=639.040000 loss=2.302583 time: 39.462652\n",
      "[Epoch 10] train=639.808000 val=639.040000 loss=2.302583 time: 38.322443\n"
     ]
    },
    {
     "data": {
      "image/png": "[encoded data removed]",
      "text/plain": [
       "<Figure size 1000x600 with 1 Axes>"
      ]
     },
     "metadata": {},
     "output_type": "display_data"
    }
   ],
   "source": [
    "import time\n",
    "import torch.nn.functional as F\n",
    "\n",
    "criterion = nn.CrossEntropyLoss(ignore_index=-1)\n",
    "optimizer = optim.Adam(model.parameters(), lr=0.001)\n",
    "\n",
    "# Initialize training and validation accuracy\n",
    "train_acc_history = []\n",
    "val_acc_history = []\n",
    "num_epochs = 10\n",
    "\n",
    "for epoch in range(num_epochs):\n",
    "    running_loss = 0.0\n",
    "    tic = time.time()  # Start time for the epoch\n",
    "    \n",
    "    # Training loop\n",
    "    correct = 0\n",
    "    total = 0\n",
    "    for i, data in enumerate(trainloader, 0):\n",
    "        inputs, labels = data[0].to(device), data[1].to(device)\n",
    "\n",
    "        optimizer.zero_grad()\n",
    "\n",
    "        outputs = model(inputs)\n",
    "        labels = labels.unsqueeze(1).unsqueeze(2)  # Reshape labels to 3D tensor\n",
    "        loss = criterion(outputs, labels)\n",
    "        loss.backward()\n",
    "        optimizer.step()\n",
    "\n",
    "        running_loss += loss.item()\n",
    "        _, predicted = torch.max(outputs.data, 1)\n",
    "        total += labels.size(0)\n",
    "        correct += (predicted == labels.squeeze()).sum().item()\n",
    "    train_acc = 100 * correct / total\n",
    "    train_acc_history.append(train_acc)\n",
    "\n",
    "    if i % 100 == 99:\n",
    "        print(f'[Epoch {epoch + 1}, Batch {i + 1}] Loss: {running_loss / 100:.3f}')\n",
    "        running_loss = 0.0\n",
    "\n",
    "    # Validation loop\n",
    "    correct = 0\n",
    "    total = 0\n",
    "    for i, data in enumerate(testloader, 0):\n",
    "        inputs, labels = data[0].to(device), data[1].to(device)\n",
    "        outputs = model(inputs)\n",
    "        _, predicted = torch.max(outputs.data, 1)\n",
    "        total += labels.size(0)\n",
    "        correct += (predicted == labels).sum().item()\n",
    "    val_acc = 100 * correct / total\n",
    "    val_acc_history.append(val_acc)\n",
    "\n",
    "    print(f'[Epoch {epoch + 1}] train={train_acc:.6f} val={val_acc:.6f} loss={running_loss / len(trainloader):.6f} time: {time.time() - tic:.6f}')\n",
    "\n",
    "# Plot the training and validation accuracy\n",
    "import matplotlib.pyplot as plt\n",
    "plt.figure(figsize=(10, 6))\n",
    "plt.plot(train_acc_history, label='Training Accuracy')\n",
    "plt.plot(val_acc_history, label='Validation Accuracy')\n",
    "plt.xlabel('Epoch')\n",
    "plt.ylabel('Accuracy (%)')\n",
    "plt.title('Training and Validation Accuracy')\n",
    "plt.legend()\n",
    "plt.show()"
   ]
  },
  {
   "cell_type": "code",
   "execution_count": 21,
   "id": "85fdb4e2-48bb-4292-b6b4-5fc16bb0f819",
   "metadata": {},
   "outputs": [
    {
     "name": "stdout",
     "output_type": "stream",
     "text": [
      "Files already downloaded and verified\n",
      "Files already downloaded and verified\n",
      "[Epoch 1] train=336.180000 val=336.770000 loss=2.114847 time: 55.457562\n",
      "[Epoch 2] train=346.234000 val=355.920000 loss=1.674407 time: 54.471953\n",
      "[Epoch 3] train=354.424000 val=359.560000 loss=1.466728 time: 51.707525\n",
      "[Epoch 4] train=360.478000 val=359.280000 loss=1.355710 time: 50.072349\n",
      "[Epoch 5] train=364.804000 val=365.910000 loss=1.264146 time: 51.598224\n",
      "[Epoch 6] train=368.192000 val=367.120000 loss=1.191862 time: 52.162302\n",
      "[Epoch 7] train=368.988000 val=371.290000 loss=1.126616 time: 50.336092\n",
      "[Epoch 8] train=372.356000 val=374.140000 loss=1.073802 time: 53.770515\n",
      "[Epoch 9] train=373.184000 val=374.810000 loss=1.023307 time: 54.849544\n",
      "[Epoch 10] train=374.924000 val=375.330000 loss=0.982932 time: 53.334118\n",
      "[Epoch 11] train=376.100000 val=373.470000 loss=0.941588 time: 55.622941\n",
      "[Epoch 12] train=376.780000 val=377.750000 loss=0.912652 time: 53.376709\n",
      "[Epoch 13] train=377.190000 val=377.880000 loss=0.884934 time: 53.043361\n",
      "[Epoch 14] train=379.332000 val=372.440000 loss=0.850473 time: 51.659400\n",
      "[Epoch 15] train=380.632000 val=381.610000 loss=0.831568 time: 52.641126\n",
      "[Epoch 16] train=382.462000 val=382.480000 loss=0.808677 time: 53.576369\n",
      "[Epoch 17] train=383.344000 val=380.740000 loss=0.784211 time: 51.842546\n",
      "[Epoch 18] train=382.932000 val=380.790000 loss=0.767246 time: 48.058018\n",
      "[Epoch 19] train=383.356000 val=380.320000 loss=0.742119 time: 50.250315\n",
      "[Epoch 20] train=382.180000 val=382.160000 loss=0.726002 time: 50.688177\n"
     ]
    },
    {
     "data": {
      "image/png": "[encoded data removed]",
      "text/plain": [
       "<Figure size 1000x600 with 1 Axes>"
      ]
     },
     "metadata": {},
     "output_type": "display_data"
    },
    {
     "name": "stdout",
     "output_type": "stream",
     "text": [
      "[Epoch 1] train=371.188000 val=375.420000 loss=1.082602 time: 47.854124\n"
     ]
    },
    {
     "name": "stderr",
     "output_type": "stream",
     "text": [
      "\n",
      "KeyboardInterrupt\n",
      "\n"
     ]
    }
   ],
   "source": [
    "import time\n",
    "import torch.nn.functional as F\n",
    "import torch.optim as optim\n",
    "from torchvision import datasets, transforms\n",
    "from torch.nn import init\n",
    "\n",
    "# Define the data transformations\n",
    "transform = transforms.Compose([\n",
    "    transforms.Resize((224, 224)),\n",
    "    transforms.RandomCrop(224, padding=4),\n",
    "    transforms.RandomHorizontalFlip(),\n",
    "    transforms.ToTensor(),\n",
    "    transforms.Normalize((0.5, 0.5, 0.5), (0.5, 0.5, 0.5))\n",
    "])\n",
    "\n",
    "# Load the CIFAR10 dataset with the transformations\n",
    "trainset = datasets.CIFAR10(root='./data', train=True, download=True, transform=transform)\n",
    "testset = datasets.CIFAR10(root='./data', train=False, download=True, transform=transform)\n",
    "\n",
    "# Create data loaders\n",
    "batch_sizes = [32, 64, 128]\n",
    "for batch_size in batch_sizes:\n",
    "    trainloader = torch.utils.data.DataLoader(trainset, batch_size=batch_size, shuffle=True, num_workers=2)\n",
    "    testloader = torch.utils.data.DataLoader(testset, batch_size=batch_size, shuffle=False, num_workers=2)\n",
    "\n",
    "    # Initialize the model\n",
    "    model = SqueezeNet_Residual(num_classes=10).to(device)\n",
    "\n",
    "    # Try different weight initialization methods\n",
    "    for m in model.modules():\n",
    "        if isinstance(m, nn.Conv2d):\n",
    "            init.kaiming_normal_(m.weight, mode='fan_out', nonlinearity='relu')\n",
    "            if m.bias is not None:\n",
    "                init.constant_(m.bias, 0)\n",
    "        elif isinstance(m, nn.BatchNorm2d):\n",
    "            init.constant_(m.weight, 1)\n",
    "            init.constant_(m.bias, 0)\n",
    "        elif isinstance(m, nn.Linear):\n",
    "            init.normal_(m.weight, 0, 0.01)\n",
    "            init.constant_(m.bias, 0)\n",
    "\n",
    "    # Try different optimizers\n",
    "    optimizers = [\n",
    "        optim.SGD(model.parameters(), lr=0.001, momentum=0.9),\n",
    "        optim.Adam(model.parameters(), lr=0.001),\n",
    "        optim.RMSprop(model.parameters(), lr=0.001)\n",
    "    ]\n",
    "    for optimizer in optimizers:\n",
    "        criterion = nn.CrossEntropyLoss(ignore_index=-1)\n",
    "        optimizer = optimizer\n",
    "\n",
    "        # Training loop\n",
    "        train_acc_history = []\n",
    "        val_acc_history = []\n",
    "        num_epochs = 20\n",
    "\n",
    "        for epoch in range(num_epochs):\n",
    "            running_loss = 0.0\n",
    "            tic = time.time()\n",
    "\n",
    "            # Training loop\n",
    "            correct = 0\n",
    "            total = 0\n",
    "            for i, data in enumerate(trainloader, 0):\n",
    "                inputs, labels = data[0].to(device), data[1].to(device)\n",
    "\n",
    "                optimizer.zero_grad()\n",
    "\n",
    "                outputs = model(inputs)\n",
    "                labels = labels.unsqueeze(1).unsqueeze(2)  # Reshape labels to 3D tensor\n",
    "                loss = criterion(outputs, labels)\n",
    "                loss.backward()\n",
    "                optimizer.step()\n",
    "\n",
    "                running_loss += loss.item()\n",
    "                _, predicted = torch.max(outputs.data, 1)\n",
    "                total += labels.size(0)\n",
    "                correct += (predicted == labels.squeeze()).sum().item()\n",
    "            train_acc = 100 * correct / total\n",
    "            train_acc_history.append(train_acc)\n",
    "\n",
    "            if i % 100 == 99:\n",
    "                print(f'[Epoch {epoch + 1}, Batch {i + 1}] Loss: {running_loss / 100:.3f}')\n",
    "                running_loss = 0.0\n",
    "\n",
    "            # Validation loop\n",
    "            correct = 0\n",
    "            total = 0\n",
    "            for i, data in enumerate(testloader, 0):\n",
    "                inputs, labels = data[0].to(device), data[1].to(device)\n",
    "                outputs = model(inputs)\n",
    "                _, predicted = torch.max(outputs.data, 1)\n",
    "                total += labels.size(0)\n",
    "                correct += (predicted == labels).sum().item()\n",
    "            val_acc = 100 * correct / total\n",
    "            val_acc_history.append(val_acc)\n",
    "\n",
    "            print(f'[Epoch {epoch + 1}] train={train_acc:.6f} val={val_acc:.6f} loss={running_loss / len(trainloader):.6f} time: {time.time() - tic:.6f}')\n",
    "\n",
    "        # Plot the training and validation accuracy\n",
    "        import matplotlib.pyplot as plt\n",
    "        plt.figure(figsize=(10, 6))\n",
    "        plt.plot(train_acc_history, label='Training Accuracy')\n",
    "        plt.plot(val_acc_history, label='Validation Accuracy')\n",
    "        plt.xlabel('Epoch')\n",
    "        plt.ylabel('Accuracy (%)')\n",
    "        plt.title('Training and Validation Accuracy')\n",
    "        plt.legend()\n",
    "        plt.show()"
   ]
  },
  {
   "cell_type": "code",
   "execution_count": null,
   "id": "668cd06e-39ad-4ea3-a45e-d2e7c011353f",
   "metadata": {},
   "outputs": [
    {
     "name": "stdout",
     "output_type": "stream",
     "text": [
      "Files already downloaded and verified\n",
      "Files already downloaded and verified\n",
      "Batch size: 64, Optimizer: SGD\n"
     ]
    },
    {
     "name": "stderr",
     "output_type": "stream",
     "text": [
      "Epoch 1/20: 100%|██████████| 782/782 [00:35<00:00, 21.92batch/s, accuracy=643, loss=2.21]\n"
     ]
    },
    {
     "name": "stdout",
     "output_type": "stream",
     "text": [
      "[Epoch 1] train=642.844000 val=652.220000 loss=2.209835 time: 43.206861\n"
     ]
    },
    {
     "name": "stderr",
     "output_type": "stream",
     "text": [
      "Epoch 2/20: 100%|██████████| 782/782 [00:38<00:00, 20.36batch/s, accuracy=661, loss=1.79]\n"
     ]
    },
    {
     "name": "stdout",
     "output_type": "stream",
     "text": [
      "[Epoch 2] train=661.142000 val=668.410000 loss=1.787605 time: 45.867066\n"
     ]
    },
    {
     "name": "stderr",
     "output_type": "stream",
     "text": [
      "Epoch 3/20: 100%|██████████| 782/782 [00:38<00:00, 20.46batch/s, accuracy=669, loss=1.56]\n"
     ]
    },
    {
     "name": "stdout",
     "output_type": "stream",
     "text": [
      "[Epoch 3] train=669.408000 val=673.350000 loss=1.557713 time: 46.089910\n"
     ]
    },
    {
     "name": "stderr",
     "output_type": "stream",
     "text": [
      "Epoch 4/20: 100%|██████████| 782/782 [00:38<00:00, 20.55batch/s, accuracy=677, loss=1.45]\n"
     ]
    },
    {
     "name": "stdout",
     "output_type": "stream",
     "text": [
      "[Epoch 4] train=677.042000 val=676.530000 loss=1.447172 time: 46.310157\n"
     ]
    },
    {
     "name": "stderr",
     "output_type": "stream",
     "text": [
      "Epoch 5/20: 100%|██████████| 782/782 [00:38<00:00, 20.16batch/s, accuracy=680, loss=1.35]\n"
     ]
    },
    {
     "name": "stdout",
     "output_type": "stream",
     "text": [
      "[Epoch 5] train=679.584000 val=680.140000 loss=1.345882 time: 47.919465\n"
     ]
    },
    {
     "name": "stderr",
     "output_type": "stream",
     "text": [
      "Epoch 6/20: 100%|██████████| 782/782 [00:38<00:00, 20.48batch/s, accuracy=686, loss=1.25]\n"
     ]
    },
    {
     "name": "stdout",
     "output_type": "stream",
     "text": [
      "[Epoch 6] train=685.972000 val=685.760000 loss=1.253946 time: 46.594099\n"
     ]
    },
    {
     "name": "stderr",
     "output_type": "stream",
     "text": [
      "Epoch 7/20: 100%|██████████| 782/782 [00:41<00:00, 18.81batch/s, accuracy=688, loss=1.19]\n"
     ]
    },
    {
     "name": "stdout",
     "output_type": "stream",
     "text": [
      "[Epoch 7] train=687.682000 val=686.240000 loss=1.189301 time: 49.325356\n"
     ]
    },
    {
     "name": "stderr",
     "output_type": "stream",
     "text": [
      "Epoch 8/20: 100%|██████████| 782/782 [00:46<00:00, 16.89batch/s, accuracy=690, loss=1.14]\n"
     ]
    },
    {
     "name": "stdout",
     "output_type": "stream",
     "text": [
      "[Epoch 8] train=690.412000 val=691.760000 loss=1.136588 time: 55.646968\n"
     ]
    },
    {
     "name": "stderr",
     "output_type": "stream",
     "text": [
      "Epoch 9/20: 100%|██████████| 782/782 [00:46<00:00, 16.91batch/s, accuracy=691, loss=1.09]\n"
     ]
    },
    {
     "name": "stdout",
     "output_type": "stream",
     "text": [
      "[Epoch 9] train=691.342000 val=691.810000 loss=1.090912 time: 55.213010\n"
     ]
    },
    {
     "name": "stderr",
     "output_type": "stream",
     "text": [
      "Epoch 10/20: 100%|██████████| 782/782 [00:40<00:00, 19.08batch/s, accuracy=693, loss=1.04]\n"
     ]
    },
    {
     "name": "stdout",
     "output_type": "stream",
     "text": [
      "[Epoch 10] train=693.104000 val=692.340000 loss=1.038912 time: 49.781443\n"
     ]
    },
    {
     "name": "stderr",
     "output_type": "stream",
     "text": [
      "Epoch 11/20: 100%|██████████| 782/782 [00:44<00:00, 17.65batch/s, accuracy=693, loss=1]   \n"
     ]
    },
    {
     "name": "stdout",
     "output_type": "stream",
     "text": [
      "[Epoch 11] train=693.274000 val=693.790000 loss=1.002728 time: 52.192394\n"
     ]
    },
    {
     "name": "stderr",
     "output_type": "stream",
     "text": [
      "Epoch 12/20: 100%|██████████| 782/782 [00:41<00:00, 18.75batch/s, accuracy=698, loss=0.971]\n"
     ]
    },
    {
     "name": "stdout",
     "output_type": "stream",
     "text": [
      "[Epoch 12] train=697.536000 val=689.850000 loss=0.970505 time: 51.223141\n"
     ]
    },
    {
     "name": "stderr",
     "output_type": "stream",
     "text": [
      "Epoch 13/20: 100%|██████████| 782/782 [00:44<00:00, 17.61batch/s, accuracy=698, loss=0.941]\n"
     ]
    },
    {
     "name": "stdout",
     "output_type": "stream",
     "text": [
      "[Epoch 13] train=697.768000 val=694.960000 loss=0.941401 time: 53.071181\n"
     ]
    },
    {
     "name": "stderr",
     "output_type": "stream",
     "text": [
      "Epoch 14/20: 100%|██████████| 782/782 [00:43<00:00, 17.99batch/s, accuracy=697, loss=0.903]\n"
     ]
    },
    {
     "name": "stdout",
     "output_type": "stream",
     "text": [
      "[Epoch 14] train=697.320000 val=693.750000 loss=0.902930 time: 52.458419\n"
     ]
    },
    {
     "name": "stderr",
     "output_type": "stream",
     "text": [
      "Epoch 15/20: 100%|██████████| 782/782 [00:43<00:00, 17.93batch/s, accuracy=701, loss=0.88] \n"
     ]
    },
    {
     "name": "stdout",
     "output_type": "stream",
     "text": [
      "[Epoch 15] train=700.762000 val=699.610000 loss=0.879924 time: 53.832304\n"
     ]
    },
    {
     "name": "stderr",
     "output_type": "stream",
     "text": [
      "Epoch 16/20: 100%|██████████| 782/782 [00:42<00:00, 18.33batch/s, accuracy=701, loss=0.85] \n"
     ]
    },
    {
     "name": "stdout",
     "output_type": "stream",
     "text": [
      "[Epoch 16] train=700.882000 val=698.830000 loss=0.850469 time: 52.420360\n"
     ]
    },
    {
     "name": "stderr",
     "output_type": "stream",
     "text": [
      "Epoch 17/20: 100%|██████████| 782/782 [00:45<00:00, 17.21batch/s, accuracy=701, loss=0.837]\n"
     ]
    },
    {
     "name": "stdout",
     "output_type": "stream",
     "text": [
      "[Epoch 17] train=701.344000 val=700.320000 loss=0.837179 time: 54.578326\n"
     ]
    },
    {
     "name": "stderr",
     "output_type": "stream",
     "text": [
      "Epoch 18/20: 100%|██████████| 782/782 [00:43<00:00, 17.85batch/s, accuracy=700, loss=0.807]\n"
     ]
    },
    {
     "name": "stdout",
     "output_type": "stream",
     "text": [
      "[Epoch 18] train=699.604000 val=699.010000 loss=0.806714 time: 52.747263\n"
     ]
    },
    {
     "name": "stderr",
     "output_type": "stream",
     "text": [
      "Epoch 19/20: 100%|██████████| 782/782 [00:40<00:00, 19.08batch/s, accuracy=702, loss=0.789]\n"
     ]
    },
    {
     "name": "stdout",
     "output_type": "stream",
     "text": [
      "[Epoch 19] train=702.140000 val=700.130000 loss=0.788739 time: 48.596216\n"
     ]
    },
    {
     "name": "stderr",
     "output_type": "stream",
     "text": [
      "Epoch 20/20: 100%|██████████| 782/782 [00:39<00:00, 20.00batch/s, accuracy=702, loss=0.766]\n"
     ]
    },
    {
     "name": "stdout",
     "output_type": "stream",
     "text": [
      "[Epoch 20] train=701.670000 val=701.790000 loss=0.765639 time: 47.263233\n"
     ]
    },
    {
     "data": {
      "image/png": "[encoded data removed]",
      "text/plain": [
       "<Figure size 1000x600 with 1 Axes>"
      ]
     },
     "metadata": {},
     "output_type": "display_data"
    },
    {
     "name": "stdout",
     "output_type": "stream",
     "text": [
      "Batch size: 64, Optimizer: Adam\n"
     ]
    },
    {
     "name": "stderr",
     "output_type": "stream",
     "text": [
      "Epoch 1/20: 100%|██████████| 782/782 [00:43<00:00, 18.00batch/s, accuracy=676, loss=1.52]\n"
     ]
    },
    {
     "name": "stdout",
     "output_type": "stream",
     "text": [
      "[Epoch 1] train=675.822000 val=688.970000 loss=1.524206 time: 51.365818\n"
     ]
    },
    {
     "name": "stderr",
     "output_type": "stream",
     "text": [
      "Epoch 2/20: 100%|██████████| 782/782 [00:36<00:00, 21.26batch/s, accuracy=692, loss=1.07]\n"
     ]
    },
    {
     "name": "stdout",
     "output_type": "stream",
     "text": [
      "[Epoch 2] train=692.312000 val=692.360000 loss=1.072570 time: 44.573120\n"
     ]
    },
    {
     "name": "stderr",
     "output_type": "stream",
     "text": [
      "Epoch 3/20: 100%|██████████| 782/782 [00:34<00:00, 22.41batch/s, accuracy=695, loss=0.962]\n"
     ]
    },
    {
     "name": "stdout",
     "output_type": "stream",
     "text": [
      "[Epoch 3] train=694.710000 val=692.340000 loss=0.962087 time: 43.150331\n"
     ]
    },
    {
     "name": "stderr",
     "output_type": "stream",
     "text": [
      "Epoch 4/20: 100%|██████████| 782/782 [00:39<00:00, 19.66batch/s, accuracy=699, loss=0.888]\n"
     ]
    },
    {
     "name": "stdout",
     "output_type": "stream",
     "text": [
      "[Epoch 4] train=698.530000 val=701.800000 loss=0.888474 time: 48.350147\n"
     ]
    },
    {
     "name": "stderr",
     "output_type": "stream",
     "text": [
      "Epoch 5/20: 100%|██████████| 782/782 [00:40<00:00, 19.43batch/s, accuracy=699, loss=0.828]\n"
     ]
    },
    {
     "name": "stdout",
     "output_type": "stream",
     "text": [
      "[Epoch 5] train=698.650000 val=701.070000 loss=0.828472 time: 49.793090\n"
     ]
    },
    {
     "name": "stderr",
     "output_type": "stream",
     "text": [
      "Epoch 6/20: 100%|██████████| 782/782 [00:35<00:00, 22.01batch/s, accuracy=703, loss=0.773]\n"
     ]
    },
    {
     "name": "stdout",
     "output_type": "stream",
     "text": [
      "[Epoch 6] train=703.426000 val=700.560000 loss=0.773327 time: 43.939771\n"
     ]
    },
    {
     "name": "stderr",
     "output_type": "stream",
     "text": [
      "Epoch 7/20: 100%|██████████| 782/782 [00:37<00:00, 20.61batch/s, accuracy=704, loss=0.738]\n"
     ]
    },
    {
     "name": "stdout",
     "output_type": "stream",
     "text": [
      "[Epoch 7] train=703.650000 val=703.330000 loss=0.738089 time: 45.881599\n"
     ]
    },
    {
     "name": "stderr",
     "output_type": "stream",
     "text": [
      "Epoch 8/20: 100%|██████████| 782/782 [00:37<00:00, 20.91batch/s, accuracy=707, loss=0.718]\n"
     ]
    },
    {
     "name": "stdout",
     "output_type": "stream",
     "text": [
      "[Epoch 8] train=707.174000 val=703.200000 loss=0.718490 time: 45.915631\n"
     ]
    },
    {
     "name": "stderr",
     "output_type": "stream",
     "text": [
      "Epoch 9/20: 100%|██████████| 782/782 [00:42<00:00, 18.50batch/s, accuracy=707, loss=0.678]\n"
     ]
    },
    {
     "name": "stdout",
     "output_type": "stream",
     "text": [
      "[Epoch 9] train=706.588000 val=703.570000 loss=0.677818 time: 50.521199\n"
     ]
    },
    {
     "name": "stderr",
     "output_type": "stream",
     "text": [
      "Epoch 10/20: 100%|██████████| 782/782 [00:40<00:00, 19.45batch/s, accuracy=704, loss=0.66] \n"
     ]
    },
    {
     "name": "stdout",
     "output_type": "stream",
     "text": [
      "[Epoch 10] train=704.380000 val=704.700000 loss=0.660331 time: 48.006356\n"
     ]
    },
    {
     "name": "stderr",
     "output_type": "stream",
     "text": [
      "Epoch 11/20: 100%|██████████| 782/782 [00:38<00:00, 20.56batch/s, accuracy=707, loss=0.647]\n"
     ]
    },
    {
     "name": "stdout",
     "output_type": "stream",
     "text": [
      "[Epoch 11] train=706.568000 val=706.080000 loss=0.646518 time: 46.975616\n"
     ]
    },
    {
     "name": "stderr",
     "output_type": "stream",
     "text": [
      "Epoch 12/20: 100%|██████████| 782/782 [00:36<00:00, 21.37batch/s, accuracy=705, loss=0.628]\n"
     ]
    },
    {
     "name": "stdout",
     "output_type": "stream",
     "text": [
      "[Epoch 12] train=705.068000 val=707.730000 loss=0.627547 time: 44.594678\n"
     ]
    },
    {
     "name": "stderr",
     "output_type": "stream",
     "text": [
      "Epoch 13/20: 100%|██████████| 782/782 [00:38<00:00, 20.45batch/s, accuracy=709, loss=0.604]\n"
     ]
    },
    {
     "name": "stdout",
     "output_type": "stream",
     "text": [
      "[Epoch 13] train=708.782000 val=706.790000 loss=0.603555 time: 47.839216\n"
     ]
    },
    {
     "name": "stderr",
     "output_type": "stream",
     "text": [
      "Epoch 14/20: 100%|██████████| 782/782 [00:43<00:00, 17.85batch/s, accuracy=709, loss=0.597]\n"
     ]
    },
    {
     "name": "stdout",
     "output_type": "stream",
     "text": [
      "[Epoch 14] train=708.962000 val=706.750000 loss=0.597412 time: 52.643612\n"
     ]
    },
    {
     "name": "stderr",
     "output_type": "stream",
     "text": [
      "Epoch 15/20: 100%|██████████| 782/782 [00:43<00:00, 18.05batch/s, accuracy=708, loss=0.576]\n"
     ]
    },
    {
     "name": "stdout",
     "output_type": "stream",
     "text": [
      "[Epoch 15] train=708.024000 val=707.640000 loss=0.575736 time: 52.616503\n"
     ]
    },
    {
     "name": "stderr",
     "output_type": "stream",
     "text": [
      "Epoch 16/20: 100%|██████████| 782/782 [00:41<00:00, 18.93batch/s, accuracy=709, loss=0.566]\n"
     ]
    },
    {
     "name": "stdout",
     "output_type": "stream",
     "text": [
      "[Epoch 16] train=708.622000 val=705.580000 loss=0.566263 time: 50.583161\n"
     ]
    },
    {
     "name": "stderr",
     "output_type": "stream",
     "text": [
      "Epoch 17/20: 100%|██████████| 782/782 [00:43<00:00, 17.87batch/s, accuracy=711, loss=0.553]\n"
     ]
    },
    {
     "name": "stdout",
     "output_type": "stream",
     "text": [
      "[Epoch 17] train=711.014000 val=706.480000 loss=0.552601 time: 53.143326\n"
     ]
    },
    {
     "name": "stderr",
     "output_type": "stream",
     "text": [
      "Epoch 18/20: 100%|██████████| 782/782 [00:42<00:00, 18.42batch/s, accuracy=713, loss=0.557]\n"
     ]
    },
    {
     "name": "stdout",
     "output_type": "stream",
     "text": [
      "[Epoch 18] train=712.848000 val=708.970000 loss=0.557092 time: 51.675823\n"
     ]
    },
    {
     "name": "stderr",
     "output_type": "stream",
     "text": [
      "Epoch 19/20: 100%|██████████| 782/782 [00:37<00:00, 21.11batch/s, accuracy=712, loss=0.534]\n"
     ]
    },
    {
     "name": "stdout",
     "output_type": "stream",
     "text": [
      "[Epoch 19] train=712.002000 val=706.290000 loss=0.533876 time: 45.660927\n"
     ]
    },
    {
     "name": "stderr",
     "output_type": "stream",
     "text": [
      "Epoch 20/20: 100%|██████████| 782/782 [00:43<00:00, 18.18batch/s, accuracy=712, loss=0.531]\n"
     ]
    },
    {
     "name": "stdout",
     "output_type": "stream",
     "text": [
      "[Epoch 20] train=711.638000 val=706.260000 loss=0.530848 time: 52.996000\n"
     ]
    },
    {
     "data": {
      "image/png": "[encoded data removed]",
      "text/plain": [
       "<Figure size 1000x600 with 1 Axes>"
      ]
     },
     "metadata": {},
     "output_type": "display_data"
    },
    {
     "name": "stdout",
     "output_type": "stream",
     "text": [
      "Batch size: 64, Optimizer: RMSprop\n"
     ]
    },
    {
     "name": "stderr",
     "output_type": "stream",
     "text": [
      "Epoch 1/20: 100%|██████████| 782/782 [00:41<00:00, 18.89batch/s, accuracy=697, loss=0.96] \n"
     ]
    },
    {
     "name": "stdout",
     "output_type": "stream",
     "text": [
      "[Epoch 1] train=696.722000 val=703.800000 loss=0.960175 time: 50.659763\n"
     ]
    },
    {
     "name": "stderr",
     "output_type": "stream",
     "text": [
      "Epoch 2/20: 100%|██████████| 782/782 [00:44<00:00, 17.55batch/s, accuracy=711, loss=0.559]\n"
     ]
    },
    {
     "name": "stdout",
     "output_type": "stream",
     "text": [
      "[Epoch 2] train=711.478000 val=703.480000 loss=0.558634 time: 53.832201\n"
     ]
    },
    {
     "name": "stderr",
     "output_type": "stream",
     "text": [
      "Epoch 3/20: 100%|██████████| 782/782 [00:39<00:00, 19.56batch/s, accuracy=709, loss=0.547]\n"
     ]
    },
    {
     "name": "stdout",
     "output_type": "stream",
     "text": [
      "[Epoch 3] train=708.802000 val=702.430000 loss=0.546820 time: 49.466122\n"
     ]
    },
    {
     "name": "stderr",
     "output_type": "stream",
     "text": [
      "Epoch 4/20: 100%|██████████| 782/782 [00:44<00:00, 17.50batch/s, accuracy=713, loss=0.535]\n"
     ]
    },
    {
     "name": "stdout",
     "output_type": "stream",
     "text": [
      "[Epoch 4] train=712.830000 val=702.130000 loss=0.534598 time: 53.667783\n"
     ]
    },
    {
     "name": "stderr",
     "output_type": "stream",
     "text": [
      "Epoch 5/20: 100%|██████████| 782/782 [00:42<00:00, 18.50batch/s, accuracy=712, loss=0.528]\n"
     ]
    },
    {
     "name": "stdout",
     "output_type": "stream",
     "text": [
      "[Epoch 5] train=711.646000 val=706.170000 loss=0.528138 time: 51.561080\n"
     ]
    },
    {
     "name": "stderr",
     "output_type": "stream",
     "text": [
      "Epoch 6/20: 100%|██████████| 782/782 [00:43<00:00, 17.93batch/s, accuracy=712, loss=0.525]\n"
     ]
    },
    {
     "name": "stdout",
     "output_type": "stream",
     "text": [
      "[Epoch 6] train=712.300000 val=700.640000 loss=0.524711 time: 51.208967\n"
     ]
    },
    {
     "name": "stderr",
     "output_type": "stream",
     "text": [
      "Epoch 7/20: 100%|██████████| 782/782 [00:41<00:00, 18.67batch/s, accuracy=711, loss=0.514]\n"
     ]
    },
    {
     "name": "stdout",
     "output_type": "stream",
     "text": [
      "[Epoch 7] train=710.870000 val=703.560000 loss=0.514143 time: 51.016601\n"
     ]
    },
    {
     "name": "stderr",
     "output_type": "stream",
     "text": [
      "Epoch 8/20: 100%|██████████| 782/782 [00:38<00:00, 20.20batch/s, accuracy=712, loss=0.512]\n"
     ]
    },
    {
     "name": "stdout",
     "output_type": "stream",
     "text": [
      "[Epoch 8] train=711.580000 val=704.030000 loss=0.511649 time: 47.744630\n"
     ]
    },
    {
     "name": "stderr",
     "output_type": "stream",
     "text": [
      "Epoch 9/20: 100%|██████████| 782/782 [00:42<00:00, 18.53batch/s, accuracy=710, loss=0.503]\n"
     ]
    },
    {
     "name": "stdout",
     "output_type": "stream",
     "text": [
      "[Epoch 9] train=710.358000 val=706.300000 loss=0.502847 time: 51.412638\n"
     ]
    },
    {
     "name": "stderr",
     "output_type": "stream",
     "text": [
      "Epoch 10/20: 100%|██████████| 782/782 [00:40<00:00, 19.17batch/s, accuracy=714, loss=0.495]\n"
     ]
    },
    {
     "name": "stdout",
     "output_type": "stream",
     "text": [
      "[Epoch 10] train=714.276000 val=703.880000 loss=0.494636 time: 48.774663\n"
     ]
    },
    {
     "name": "stderr",
     "output_type": "stream",
     "text": [
      "Epoch 11/20: 100%|██████████| 782/782 [00:37<00:00, 20.61batch/s, accuracy=713, loss=0.489]\n"
     ]
    },
    {
     "name": "stdout",
     "output_type": "stream",
     "text": [
      "[Epoch 11] train=712.774000 val=706.210000 loss=0.489149 time: 45.953336\n"
     ]
    },
    {
     "name": "stderr",
     "output_type": "stream",
     "text": [
      "Epoch 12/20: 100%|██████████| 782/782 [00:36<00:00, 21.65batch/s, accuracy=713, loss=0.485]\n"
     ]
    },
    {
     "name": "stdout",
     "output_type": "stream",
     "text": [
      "[Epoch 12] train=712.742000 val=702.490000 loss=0.484504 time: 45.280257\n"
     ]
    },
    {
     "name": "stderr",
     "output_type": "stream",
     "text": [
      "Epoch 13/20: 100%|██████████| 782/782 [00:38<00:00, 20.23batch/s, accuracy=714, loss=0.485]\n"
     ]
    },
    {
     "name": "stdout",
     "output_type": "stream",
     "text": [
      "[Epoch 13] train=714.178000 val=708.400000 loss=0.485426 time: 46.948522\n"
     ]
    },
    {
     "name": "stderr",
     "output_type": "stream",
     "text": [
      "Epoch 14/20: 100%|██████████| 782/782 [00:36<00:00, 21.61batch/s, accuracy=711, loss=0.476]\n"
     ]
    },
    {
     "name": "stdout",
     "output_type": "stream",
     "text": [
      "[Epoch 14] train=711.246000 val=706.480000 loss=0.476301 time: 44.198915\n"
     ]
    },
    {
     "name": "stderr",
     "output_type": "stream",
     "text": [
      "Epoch 15/20: 100%|██████████| 782/782 [00:36<00:00, 21.14batch/s, accuracy=712, loss=0.472]\n"
     ]
    },
    {
     "name": "stdout",
     "output_type": "stream",
     "text": [
      "[Epoch 15] train=711.892000 val=711.870000 loss=0.472252 time: 44.041283\n"
     ]
    },
    {
     "name": "stderr",
     "output_type": "stream",
     "text": [
      "Epoch 16/20: 100%|██████████| 782/782 [00:37<00:00, 20.87batch/s, accuracy=712, loss=0.468]\n"
     ]
    },
    {
     "name": "stdout",
     "output_type": "stream",
     "text": [
      "[Epoch 16] train=712.202000 val=707.300000 loss=0.467911 time: 45.733931\n"
     ]
    },
    {
     "name": "stderr",
     "output_type": "stream",
     "text": [
      "Epoch 17/20: 100%|██████████| 782/782 [00:33<00:00, 23.05batch/s, accuracy=716, loss=0.461]\n"
     ]
    },
    {
     "name": "stdout",
     "output_type": "stream",
     "text": [
      "[Epoch 17] train=715.660000 val=705.230000 loss=0.461133 time: 41.737337\n"
     ]
    },
    {
     "name": "stderr",
     "output_type": "stream",
     "text": [
      "Epoch 18/20: 100%|██████████| 782/782 [00:39<00:00, 19.89batch/s, accuracy=714, loss=0.463]\n"
     ]
    },
    {
     "name": "stdout",
     "output_type": "stream",
     "text": [
      "[Epoch 18] train=714.170000 val=707.730000 loss=0.463344 time: 47.258780\n"
     ]
    },
    {
     "name": "stderr",
     "output_type": "stream",
     "text": [
      "Epoch 19/20: 100%|██████████| 782/782 [00:39<00:00, 19.67batch/s, accuracy=716, loss=0.449]\n"
     ]
    },
    {
     "name": "stdout",
     "output_type": "stream",
     "text": [
      "[Epoch 19] train=716.106000 val=700.600000 loss=0.448792 time: 48.455168\n"
     ]
    },
    {
     "name": "stderr",
     "output_type": "stream",
     "text": [
      "Epoch 20/20: 100%|██████████| 782/782 [00:40<00:00, 19.13batch/s, accuracy=714, loss=0.453]\n"
     ]
    },
    {
     "name": "stdout",
     "output_type": "stream",
     "text": [
      "[Epoch 20] train=714.084000 val=709.070000 loss=0.453242 time: 48.764404\n"
     ]
    },
    {
     "data": {
      "image/png": "[encoded data removed]",
      "text/plain": [
       "<Figure size 1000x600 with 1 Axes>"
      ]
     },
     "metadata": {},
     "output_type": "display_data"
    },
    {
     "name": "stdout",
     "output_type": "stream",
     "text": [
      "Batch size: 128, Optimizer: SGD\n"
     ]
    },
    {
     "name": "stderr",
     "output_type": "stream",
     "text": [
      "Epoch 1/20: 100%|██████████| 391/391 [00:34<00:00, 11.26batch/s, accuracy=1.28e+3, loss=2.3] \n"
     ]
    },
    {
     "name": "stdout",
     "output_type": "stream",
     "text": [
      "[Epoch 1] train=1278.908000 val=1292.020000 loss=2.299787 time: 42.591249\n"
     ]
    },
    {
     "name": "stderr",
     "output_type": "stream",
     "text": [
      "Epoch 2/20: 100%|██████████| 391/391 [00:34<00:00, 11.42batch/s, accuracy=1.3e+3, loss=1.89] \n"
     ]
    },
    {
     "name": "stdout",
     "output_type": "stream",
     "text": [
      "[Epoch 2] train=1303.074000 val=1300.330000 loss=1.885029 time: 42.036089\n"
     ]
    },
    {
     "name": "stderr",
     "output_type": "stream",
     "text": [
      "Epoch 3/20: 100%|██████████| 391/391 [00:40<00:00,  9.65batch/s, accuracy=1.31e+3, loss=1.69]\n"
     ]
    },
    {
     "name": "stdout",
     "output_type": "stream",
     "text": [
      "[Epoch 3] train=1305.396000 val=1307.750000 loss=1.685967 time: 48.154456\n"
     ]
    },
    {
     "name": "stderr",
     "output_type": "stream",
     "text": [
      "Epoch 4/20: 100%|██████████| 391/391 [00:40<00:00,  9.63batch/s, accuracy=1.3e+3, loss=1.56] \n"
     ]
    },
    {
     "name": "stdout",
     "output_type": "stream",
     "text": [
      "[Epoch 4] train=1304.470000 val=1312.180000 loss=1.562821 time: 50.057319\n"
     ]
    },
    {
     "name": "stderr",
     "output_type": "stream",
     "text": [
      "Epoch 5/20: 100%|██████████| 391/391 [00:40<00:00,  9.57batch/s, accuracy=1.32e+3, loss=1.47]\n"
     ]
    },
    {
     "name": "stdout",
     "output_type": "stream",
     "text": [
      "[Epoch 5] train=1319.024000 val=1311.850000 loss=1.465345 time: 50.156503\n"
     ]
    },
    {
     "name": "stderr",
     "output_type": "stream",
     "text": [
      "Epoch 6/20: 100%|██████████| 391/391 [00:41<00:00,  9.46batch/s, accuracy=1317.73, loss=1.4] \n"
     ]
    },
    {
     "name": "stdout",
     "output_type": "stream",
     "text": [
      "[Epoch 6] train=1317.730000 val=1315.880000 loss=1.396354 time: 50.643286\n"
     ]
    },
    {
     "name": "stderr",
     "output_type": "stream",
     "text": [
      "Epoch 7/20: 100%|██████████| 391/391 [00:37<00:00, 10.43batch/s, accuracy=1319.12, loss=1.34]\n"
     ]
    },
    {
     "name": "stdout",
     "output_type": "stream",
     "text": [
      "[Epoch 7] train=1319.120000 val=1319.390000 loss=1.338857 time: 45.235348\n"
     ]
    },
    {
     "name": "stderr",
     "output_type": "stream",
     "text": [
      "Epoch 8/20: 100%|██████████| 391/391 [00:40<00:00,  9.56batch/s, accuracy=1.32e+3, loss=1.28]\n"
     ]
    },
    {
     "name": "stdout",
     "output_type": "stream",
     "text": [
      "[Epoch 8] train=1324.468000 val=1323.700000 loss=1.277468 time: 49.828436\n"
     ]
    },
    {
     "name": "stderr",
     "output_type": "stream",
     "text": [
      "Epoch 9/20: 100%|██████████| 391/391 [00:38<00:00, 10.04batch/s, accuracy=1.33e+3, loss=1.23]\n"
     ]
    },
    {
     "name": "stdout",
     "output_type": "stream",
     "text": [
      "[Epoch 9] train=1325.346000 val=1321.810000 loss=1.230241 time: 47.352187\n"
     ]
    },
    {
     "name": "stderr",
     "output_type": "stream",
     "text": [
      "Epoch 10/20: 100%|██████████| 391/391 [00:34<00:00, 11.39batch/s, accuracy=1329.68, loss=1.19]\n"
     ]
    },
    {
     "name": "stdout",
     "output_type": "stream",
     "text": [
      "[Epoch 10] train=1329.680000 val=1325.420000 loss=1.190614 time: 42.973603\n"
     ]
    },
    {
     "name": "stderr",
     "output_type": "stream",
     "text": [
      "Epoch 11/20: 100%|██████████| 391/391 [00:36<00:00, 10.67batch/s, accuracy=1.32e+3, loss=1.17]\n"
     ]
    },
    {
     "name": "stdout",
     "output_type": "stream",
     "text": [
      "[Epoch 11] train=1324.036000 val=1327.610000 loss=1.166134 time: 44.636900\n"
     ]
    },
    {
     "name": "stderr",
     "output_type": "stream",
     "text": [
      "Epoch 12/20: 100%|██████████| 391/391 [00:38<00:00, 10.08batch/s, accuracy=1.33e+3, loss=1.13]\n"
     ]
    },
    {
     "name": "stdout",
     "output_type": "stream",
     "text": [
      "[Epoch 12] train=1332.528000 val=1325.710000 loss=1.125599 time: 48.020840\n"
     ]
    },
    {
     "name": "stderr",
     "output_type": "stream",
     "text": [
      "Epoch 13/20: 100%|██████████| 391/391 [00:42<00:00,  9.30batch/s, accuracy=1327.65, loss=1.1] \n"
     ]
    },
    {
     "name": "stdout",
     "output_type": "stream",
     "text": [
      "[Epoch 13] train=1327.650000 val=1330.070000 loss=1.099817 time: 49.715995\n"
     ]
    },
    {
     "name": "stderr",
     "output_type": "stream",
     "text": [
      "Epoch 14/20: 100%|██████████| 391/391 [00:40<00:00,  9.74batch/s, accuracy=1328.72, loss=1.07]\n"
     ]
    },
    {
     "name": "stdout",
     "output_type": "stream",
     "text": [
      "[Epoch 14] train=1328.720000 val=1331.170000 loss=1.072260 time: 47.784459\n"
     ]
    },
    {
     "name": "stderr",
     "output_type": "stream",
     "text": [
      "Epoch 15/20: 100%|██████████| 391/391 [00:37<00:00, 10.52batch/s, accuracy=1.33e+3, loss=1.05]\n"
     ]
    },
    {
     "name": "stdout",
     "output_type": "stream",
     "text": [
      "[Epoch 15] train=1328.046000 val=1332.420000 loss=1.045868 time: 46.279631\n"
     ]
    },
    {
     "name": "stderr",
     "output_type": "stream",
     "text": [
      "Epoch 16/20: 100%|██████████| 391/391 [00:39<00:00,  9.93batch/s, accuracy=1.33e+3, loss=1.02]\n"
     ]
    },
    {
     "name": "stdout",
     "output_type": "stream",
     "text": [
      "[Epoch 16] train=1331.404000 val=1331.400000 loss=1.024372 time: 48.578248\n"
     ]
    },
    {
     "name": "stderr",
     "output_type": "stream",
     "text": [
      "Epoch 17/20: 100%|██████████| 391/391 [00:41<00:00,  9.34batch/s, accuracy=1.33e+3, loss=1]    \n"
     ]
    },
    {
     "name": "stdout",
     "output_type": "stream",
     "text": [
      "[Epoch 17] train=1328.372000 val=1331.800000 loss=1.004250 time: 50.092384\n"
     ]
    },
    {
     "name": "stderr",
     "output_type": "stream",
     "text": [
      "Epoch 18/20: 100%|██████████| 391/391 [00:37<00:00, 10.34batch/s, accuracy=1.34e+3, loss=0.978]\n"
     ]
    },
    {
     "name": "stdout",
     "output_type": "stream",
     "text": [
      "[Epoch 18] train=1340.606000 val=1333.780000 loss=0.978036 time: 47.446282\n"
     ]
    },
    {
     "name": "stderr",
     "output_type": "stream",
     "text": [
      "Epoch 19/20: 100%|██████████| 391/391 [00:40<00:00,  9.73batch/s, accuracy=1336.93, loss=0.953]\n"
     ]
    },
    {
     "name": "stdout",
     "output_type": "stream",
     "text": [
      "[Epoch 19] train=1336.930000 val=1335.480000 loss=0.952705 time: 47.782108\n"
     ]
    },
    {
     "name": "stderr",
     "output_type": "stream",
     "text": [
      "Epoch 20/20: 100%|██████████| 391/391 [00:37<00:00, 10.38batch/s, accuracy=1.34e+3, loss=0.94] \n"
     ]
    },
    {
     "name": "stdout",
     "output_type": "stream",
     "text": [
      "[Epoch 20] train=1336.966000 val=1334.340000 loss=0.939969 time: 45.311924\n"
     ]
    },
    {
     "data": {
      "image/png": "[encoded data removed]",
      "text/plain": [
       "<Figure size 1000x600 with 1 Axes>"
      ]
     },
     "metadata": {},
     "output_type": "display_data"
    },
    {
     "name": "stdout",
     "output_type": "stream",
     "text": [
      "Batch size: 128, Optimizer: Adam\n"
     ]
    },
    {
     "name": "stderr",
     "output_type": "stream",
     "text": [
      "Epoch 1/20: 100%|██████████| 391/391 [00:38<00:00, 10.22batch/s, accuracy=1.3e+3, loss=1.9] \n"
     ]
    },
    {
     "name": "stdout",
     "output_type": "stream",
     "text": [
      "[Epoch 1] train=1301.176000 val=1311.570000 loss=1.895032 time: 47.086115\n"
     ]
    },
    {
     "name": "stderr",
     "output_type": "stream",
     "text": [
      "Epoch 2/20: 100%|██████████| 391/391 [00:36<00:00, 10.74batch/s, accuracy=1.32e+3, loss=1.4] \n"
     ]
    },
    {
     "name": "stdout",
     "output_type": "stream",
     "text": [
      "[Epoch 2] train=1318.934000 val=1317.970000 loss=1.403285 time: 45.595407\n"
     ]
    },
    {
     "name": "stderr",
     "output_type": "stream",
     "text": [
      "Epoch 3/20: 100%|██████████| 391/391 [00:37<00:00, 10.31batch/s, accuracy=1.33e+3, loss=1.2] \n"
     ]
    },
    {
     "name": "stdout",
     "output_type": "stream",
     "text": [
      "[Epoch 3] train=1331.322000 val=1334.310000 loss=1.203190 time: 46.203359\n"
     ]
    },
    {
     "name": "stderr",
     "output_type": "stream",
     "text": [
      "Epoch 4/20: 100%|██████████| 391/391 [00:38<00:00, 10.20batch/s, accuracy=1.33e+3, loss=1.09]\n"
     ]
    },
    {
     "name": "stdout",
     "output_type": "stream",
     "text": [
      "[Epoch 4] train=1334.178000 val=1334.430000 loss=1.085530 time: 47.433240\n"
     ]
    },
    {
     "name": "stderr",
     "output_type": "stream",
     "text": [
      "Epoch 5/20: 100%|██████████| 391/391 [00:35<00:00, 11.17batch/s, accuracy=1.33e+3, loss=1.01]\n"
     ]
    },
    {
     "name": "stdout",
     "output_type": "stream",
     "text": [
      "[Epoch 5] train=1330.862000 val=1334.230000 loss=1.006602 time: 42.925224\n"
     ]
    },
    {
     "name": "stderr",
     "output_type": "stream",
     "text": [
      "Epoch 6/20: 100%|██████████| 391/391 [00:38<00:00, 10.15batch/s, accuracy=1.34e+3, loss=0.936]\n"
     ]
    },
    {
     "name": "stdout",
     "output_type": "stream",
     "text": [
      "[Epoch 6] train=1337.122000 val=1333.500000 loss=0.935834 time: 45.835833\n"
     ]
    },
    {
     "name": "stderr",
     "output_type": "stream",
     "text": [
      "Epoch 7/20: 100%|██████████| 391/391 [00:35<00:00, 11.01batch/s, accuracy=1.34e+3, loss=0.9]  \n"
     ]
    },
    {
     "name": "stdout",
     "output_type": "stream",
     "text": [
      "[Epoch 7] train=1337.646000 val=1339.440000 loss=0.899910 time: 44.351418\n"
     ]
    },
    {
     "name": "stderr",
     "output_type": "stream",
     "text": [
      "Epoch 8/20: 100%|██████████| 391/391 [00:34<00:00, 11.36batch/s, accuracy=1.34e+3, loss=0.852]\n"
     ]
    },
    {
     "name": "stdout",
     "output_type": "stream",
     "text": [
      "[Epoch 8] train=1339.652000 val=1342.060000 loss=0.852204 time: 42.325496\n"
     ]
    },
    {
     "name": "stderr",
     "output_type": "stream",
     "text": [
      "Epoch 9/20: 100%|██████████| 391/391 [00:36<00:00, 10.77batch/s, accuracy=1.34e+3, loss=0.815]\n"
     ]
    },
    {
     "name": "stdout",
     "output_type": "stream",
     "text": [
      "[Epoch 9] train=1340.094000 val=1340.740000 loss=0.814709 time: 44.174394\n"
     ]
    },
    {
     "name": "stderr",
     "output_type": "stream",
     "text": [
      "Epoch 10/20: 100%|██████████| 391/391 [00:35<00:00, 11.02batch/s, accuracy=1.34e+3, loss=0.776]\n"
     ]
    },
    {
     "name": "stdout",
     "output_type": "stream",
     "text": [
      "[Epoch 10] train=1343.248000 val=1341.090000 loss=0.776193 time: 43.709364\n"
     ]
    },
    {
     "name": "stderr",
     "output_type": "stream",
     "text": [
      "Epoch 11/20: 100%|██████████| 391/391 [00:35<00:00, 10.96batch/s, accuracy=1.34e+3, loss=0.756]\n"
     ]
    },
    {
     "name": "stdout",
     "output_type": "stream",
     "text": [
      "[Epoch 11] train=1340.146000 val=1343.220000 loss=0.755663 time: 43.444340\n"
     ]
    },
    {
     "name": "stderr",
     "output_type": "stream",
     "text": [
      "Epoch 12/20: 100%|██████████| 391/391 [00:36<00:00, 10.65batch/s, accuracy=1341.62, loss=0.726]\n"
     ]
    },
    {
     "name": "stdout",
     "output_type": "stream",
     "text": [
      "[Epoch 12] train=1341.620000 val=1342.440000 loss=0.725574 time: 45.416901\n"
     ]
    },
    {
     "name": "stderr",
     "output_type": "stream",
     "text": [
      "Epoch 13/20: 100%|██████████| 391/391 [00:36<00:00, 10.58batch/s, accuracy=1.35e+3, loss=0.695]\n"
     ]
    },
    {
     "name": "stdout",
     "output_type": "stream",
     "text": [
      "[Epoch 13] train=1347.768000 val=1346.150000 loss=0.695131 time: 44.039649\n"
     ]
    },
    {
     "name": "stderr",
     "output_type": "stream",
     "text": [
      "Epoch 14/20: 100%|██████████| 391/391 [00:36<00:00, 10.58batch/s, accuracy=1343.82, loss=0.673]\n"
     ]
    },
    {
     "name": "stdout",
     "output_type": "stream",
     "text": [
      "[Epoch 14] train=1343.820000 val=1345.580000 loss=0.673060 time: 44.054111\n"
     ]
    },
    {
     "name": "stderr",
     "output_type": "stream",
     "text": [
      "Epoch 15/20: 100%|██████████| 391/391 [00:36<00:00, 10.82batch/s, accuracy=1.34e+3, loss=0.662]\n"
     ]
    },
    {
     "name": "stdout",
     "output_type": "stream",
     "text": [
      "[Epoch 15] train=1343.842000 val=1340.270000 loss=0.662431 time: 43.342539\n"
     ]
    },
    {
     "name": "stderr",
     "output_type": "stream",
     "text": [
      "Epoch 16/20: 100%|██████████| 391/391 [00:37<00:00, 10.55batch/s, accuracy=1.35e+3, loss=0.633]\n"
     ]
    },
    {
     "name": "stdout",
     "output_type": "stream",
     "text": [
      "[Epoch 16] train=1345.746000 val=1345.610000 loss=0.633445 time: 45.874202\n"
     ]
    },
    {
     "name": "stderr",
     "output_type": "stream",
     "text": [
      "Epoch 17/20: 100%|██████████| 391/391 [00:41<00:00,  9.39batch/s, accuracy=1.35e+3, loss=0.622]\n"
     ]
    },
    {
     "name": "stdout",
     "output_type": "stream",
     "text": [
      "[Epoch 17] train=1345.768000 val=1346.230000 loss=0.622000 time: 49.426947\n"
     ]
    },
    {
     "name": "stderr",
     "output_type": "stream",
     "text": [
      "Epoch 18/20: 100%|██████████| 391/391 [00:41<00:00,  9.42batch/s, accuracy=1.35e+3, loss=0.597]\n"
     ]
    },
    {
     "name": "stdout",
     "output_type": "stream",
     "text": [
      "[Epoch 18] train=1346.516000 val=1349.060000 loss=0.597071 time: 50.333486\n"
     ]
    },
    {
     "name": "stderr",
     "output_type": "stream",
     "text": [
      "Epoch 19/20: 100%|██████████| 391/391 [00:38<00:00, 10.06batch/s, accuracy=1.35e+3, loss=0.587]\n"
     ]
    },
    {
     "name": "stdout",
     "output_type": "stream",
     "text": [
      "[Epoch 19] train=1349.724000 val=1344.240000 loss=0.586741 time: 46.654832\n"
     ]
    },
    {
     "name": "stderr",
     "output_type": "stream",
     "text": [
      "Epoch 20/20: 100%|██████████| 391/391 [00:41<00:00,  9.53batch/s, accuracy=1.35e+3, loss=0.579]\n"
     ]
    },
    {
     "name": "stdout",
     "output_type": "stream",
     "text": [
      "[Epoch 20] train=1348.332000 val=1344.950000 loss=0.578945 time: 49.820698\n"
     ]
    },
    {
     "data": {
      "image/png": "[encoded data removed]",
      "text/plain": [
       "<Figure size 1000x600 with 1 Axes>"
      ]
     },
     "metadata": {},
     "output_type": "display_data"
    },
    {
     "name": "stdout",
     "output_type": "stream",
     "text": [
      "Batch size: 128, Optimizer: RMSprop\n"
     ]
    },
    {
     "name": "stderr",
     "output_type": "stream",
     "text": [
      "Epoch 1/20: 100%|██████████| 391/391 [00:39<00:00,  9.98batch/s, accuracy=1.29e+3, loss=2.2] \n"
     ]
    },
    {
     "name": "stdout",
     "output_type": "stream",
     "text": [
      "[Epoch 1] train=1294.984000 val=1308.730000 loss=2.201086 time: 47.932265\n"
     ]
    },
    {
     "name": "stderr",
     "output_type": "stream",
     "text": [
      "Epoch 2/20: 100%|██████████| 391/391 [00:47<00:00,  8.24batch/s, accuracy=1.33e+3, loss=1.1] \n"
     ]
    },
    {
     "name": "stdout",
     "output_type": "stream",
     "text": [
      "[Epoch 2] train=1334.592000 val=1342.310000 loss=1.102766 time: 57.156738\n"
     ]
    },
    {
     "name": "stderr",
     "output_type": "stream",
     "text": [
      "Epoch 3/20: 100%|██████████| 391/391 [00:41<00:00,  9.52batch/s, accuracy=1.35e+3, loss=0.729]\n"
     ]
    },
    {
     "name": "stdout",
     "output_type": "stream",
     "text": [
      "[Epoch 3] train=1347.044000 val=1341.810000 loss=0.728794 time: 50.059074\n"
     ]
    },
    {
     "name": "stderr",
     "output_type": "stream",
     "text": [
      "Epoch 4/20: 100%|██████████| 391/391 [00:41<00:00,  9.52batch/s, accuracy=1.35e+3, loss=0.671]\n"
     ]
    },
    {
     "name": "stdout",
     "output_type": "stream",
     "text": [
      "[Epoch 4] train=1348.012000 val=1345.900000 loss=0.671110 time: 49.595786\n"
     ]
    },
    {
     "name": "stderr",
     "output_type": "stream",
     "text": [
      "Epoch 5/20: 100%|██████████| 391/391 [00:38<00:00, 10.17batch/s, accuracy=1.35e+3, loss=0.642]\n"
     ]
    },
    {
     "name": "stdout",
     "output_type": "stream",
     "text": [
      "[Epoch 5] train=1347.878000 val=1343.940000 loss=0.641539 time: 46.142248\n"
     ]
    },
    {
     "name": "stderr",
     "output_type": "stream",
     "text": [
      "Epoch 6/20: 100%|██████████| 391/391 [00:47<00:00,  8.19batch/s, accuracy=1.35e+3, loss=0.618]\n"
     ]
    },
    {
     "name": "stdout",
     "output_type": "stream",
     "text": [
      "[Epoch 6] train=1348.784000 val=1340.710000 loss=0.617962 time: 56.737704\n"
     ]
    },
    {
     "name": "stderr",
     "output_type": "stream",
     "text": [
      "Epoch 7/20:   8%|▊         | 33/391 [00:05<00:53,  6.74batch/s, accuracy=1.35e+3, loss=0.573]IOPub message rate exceeded.\n",
      "The Jupyter server will temporarily stop sending output\n",
      "to the client in order to avoid crashing it.\n",
      "To change this limit, set the config variable\n",
      "`--ServerApp.iopub_msg_rate_limit`.\n",
      "\n",
      "Current values:\n",
      "ServerApp.iopub_msg_rate_limit=1000.0 (msgs/sec)\n",
      "ServerApp.rate_limit_window=3.0 (secs)\n",
      "\n",
      "Epoch 8/20: 100%|██████████| 98/98 [00:37<00:00,  2.61batch/s, accuracy=5.15e+3, loss=1.42]\n"
     ]
    },
    {
     "name": "stdout",
     "output_type": "stream",
     "text": [
      "[Epoch 8] train=5151.788000 val=5101.810000 loss=1.416192 time: 46.757846\n"
     ]
    },
    {
     "name": "stderr",
     "output_type": "stream",
     "text": [
      "Epoch 9/20: 100%|██████████| 98/98 [00:38<00:00,  2.56batch/s, accuracy=5.14e+3, loss=1.41]\n"
     ]
    }
   ],
   "source": [
    "import time\n",
    "import torch.nn.functional as F\n",
    "import torch.optim as optim\n",
    "from torchvision import datasets, transforms\n",
    "from torch.nn import init\n",
    "from tqdm import tqdm\n",
    "\n",
    "# Define the data transformations\n",
    "transform = transforms.Compose([\n",
    "    transforms.Resize((224, 224)),\n",
    "    transforms.RandomCrop(224, padding=4),\n",
    "    transforms.RandomHorizontalFlip(),\n",
    "    transforms.ToTensor(),\n",
    "    transforms.Normalize((0.5, 0.5, 0.5), (0.5, 0.5, 0.5))\n",
    "])\n",
    "\n",
    "# Load the CIFAR10 dataset with the transformations\n",
    "trainset = datasets.CIFAR10(root='./data', train=True, download=True, transform=transform)\n",
    "testset = datasets.CIFAR10(root='./data', train=False, download=True, transform=transform)\n",
    "\n",
    "# Create data loaders\n",
    "batch_sizes = [64, 128, 256, 512]\n",
    "for batch_size in batch_sizes:\n",
    "    trainloader = torch.utils.data.DataLoader(trainset, batch_size=batch_size, shuffle=True, num_workers=2)\n",
    "    testloader = torch.utils.data.DataLoader(testset, batch_size=batch_size, shuffle=False, num_workers=2)\n",
    "\n",
    "    # Initialize the model\n",
    "    model = SqueezeNet_Residual(num_classes=10).to(device)\n",
    "\n",
    "    # Try different weight initialization methods\n",
    "    for m in model.modules():\n",
    "        if isinstance(m, nn.Conv2d):\n",
    "            init.kaiming_normal_(m.weight, mode='fan_out', nonlinearity='relu')\n",
    "            if m.bias is not None:\n",
    "                init.constant_(m.bias, 0)\n",
    "        elif isinstance(m, nn.BatchNorm2d):\n",
    "            init.constant_(m.weight, 1)\n",
    "            init.constant_(m.bias, 0)\n",
    "        elif isinstance(m, nn.Linear):\n",
    "            init.normal_(m.weight, 0, 0.01)\n",
    "            init.constant_(m.bias, 0)\n",
    "\n",
    "    # Try different optimizers\n",
    "    optimizers = [\n",
    "        optim.SGD(model.parameters(), lr=0.001, momentum=0.9),\n",
    "        optim.Adam(model.parameters(), lr=0.001),\n",
    "        optim.RMSprop(model.parameters(), lr=0.001)\n",
    "    ]\n",
    "    for optimizer in optimizers:\n",
    "        criterion = nn.CrossEntropyLoss(ignore_index=-1)\n",
    "        optimizer = optimizer\n",
    "\n",
    "        # Training loop\n",
    "        train_acc_history = []\n",
    "        val_acc_history = []\n",
    "        num_epochs = 20\n",
    "\n",
    "        print(f\"Batch size: {batch_size}, Optimizer: {type(optimizer).__name__}\")\n",
    "\n",
    "        for epoch in range(num_epochs):\n",
    "            running_loss = 0.0\n",
    "            tic = time.time()\n",
    "\n",
    "            # Training loop\n",
    "            correct = 0\n",
    "            total = 0\n",
    "            progress_bar = tqdm(trainloader, desc=f\"Epoch {epoch+1}/{num_epochs}\", unit=\"batch\")\n",
    "            for i, data in enumerate(progress_bar):\n",
    "                inputs, labels = data[0].to(device), data[1].to(device)\n",
    "\n",
    "                optimizer.zero_grad()\n",
    "\n",
    "                outputs = model(inputs)\n",
    "                labels = labels.unsqueeze(1).unsqueeze(2)  # Reshape labels to 3D tensor\n",
    "                loss = criterion(outputs, labels)\n",
    "                loss.backward()\n",
    "                optimizer.step()\n",
    "\n",
    "                running_loss += loss.item()\n",
    "                _, predicted = torch.max(outputs.data, 1)\n",
    "                total += labels.size(0)\n",
    "                correct += (predicted == labels.squeeze()).sum().item()\n",
    "                progress_bar.set_postfix(loss=running_loss / (i+1), accuracy=100 * correct / total)\n",
    "\n",
    "            train_acc = 100 * correct / total\n",
    "            train_acc_history.append(train_acc)\n",
    "\n",
    "            # Validation loop\n",
    "            correct = 0\n",
    "            total = 0\n",
    "            for i, data in enumerate(testloader, 0):\n",
    "                inputs, labels = data[0].to(device), data[1].to(device)\n",
    "                outputs = model(inputs)\n",
    "                _, predicted = torch.max(outputs.data, 1)\n",
    "                total += labels.size(0)\n",
    "                correct += (predicted == labels).sum().item()\n",
    "            val_acc = 100 * correct / total\n",
    "            val_acc_history.append(val_acc)\n",
    "\n",
    "            print(f'[Epoch {epoch + 1}] train={train_acc:.6f} val={val_acc:.6f} loss={running_loss / len(trainloader):.6f} time: {time.time() - tic:.6f}')\n",
    "\n",
    "        # Plot the training and validation accuracy\n",
    "        import matplotlib.pyplot as plt\n",
    "        plt.figure(figsize=(10, 6))\n",
    "        plt.plot(train_acc_history, label='Training Accuracy')\n",
    "        plt.plot(val_acc_history, label='Validation Accuracy')\n",
    "        plt.xlabel('Epoch')\n",
    "        plt.ylabel('Accuracy (%)')\n",
    "        plt.title('Training and Validation Accuracy')\n",
    "        plt.legend()\n",
    "        plt.show()"
   ]
  },
  {
   "cell_type": "code",
   "execution_count": null,
   "id": "c6f72c7e-9228-417f-aee5-573f1371a544",
   "metadata": {},
   "outputs": [],
   "source": [
    "import time\n",
    "import torch.nn.functional as F\n",
    "import torch.optim as optim\n",
    "from torchvision import datasets, transforms\n",
    "from torch.nn import init\n",
    "from tqdm import tqdm\n",
    "from torch.optim.lr_scheduler import ReduceLROnPlateau\n",
    "\n",
    "# Define the data transformations\n",
    "transform = transforms.Compose([\n",
    "    transforms.Resize((224, 224)),\n",
    "    transforms.RandomCrop(224, padding=4),\n",
    "    transforms.RandomHorizontalFlip(),\n",
    "    transforms.ToTensor(),\n",
    "    transforms.Normalize((0.5, 0.5, 0.5), (0.5, 0.5, 0.5))\n",
    "])\n",
    "\n",
    "# Load the CIFAR10 dataset with the transformations\n",
    "trainset = datasets.CIFAR10(root='./data', train=True, download=True, transform=transform)\n",
    "testset = datasets.CIFAR10(root='./data', train=False, download=True, transform=transform)\n",
    "\n",
    "# Create data loaders\n",
    "batch_sizes = [64, 128, 256, 512]\n",
    "for batch_size in batch_sizes:\n",
    "    trainloader = torch.utils.data.DataLoader(trainset, batch_size=batch_size, shuffle=True, num_workers=2)\n",
    "    testloader = torch.utils.data.DataLoader(testset, batch_size=batch_size, shuffle=False, num_workers=2)\n",
    "\n",
    "    # Initialize the model\n",
    "    model = SqueezeNet_Residual(num_classes=10).to(device)\n",
    "\n",
    "    # Try different weight initialization methods\n",
    "    for m in model.modules():\n",
    "        if isinstance(m, nn.Conv2d):\n",
    "            init.kaiming_normal_(m.weight, mode='fan_out', nonlinearity='relu')\n",
    "            if m.bias is not None:\n",
    "                init.constant_(m.bias, 0)\n",
    "        elif isinstance(m, nn.BatchNorm2d):\n",
    "            init.constant_(m.weight, 1)\n",
    "            init.constant_(m.bias, 0)\n",
    "        elif isinstance(m, nn.Linear):\n",
    "            init.normal_(m.weight, 0, 0.01)\n",
    "            init.constant_(m.bias, 0)\n",
    "\n",
    "    # Try different optimizers\n",
    "    optimizers = [\n",
    "        optim.SGD(model.parameters(), lr=0.001, momentum=0.9),\n",
    "        optim.Adam(model.parameters(), lr=0.001),\n",
    "        optim.RMSprop(model.parameters(), lr=0.001)\n",
    "    ]\n",
    "    for optimizer in optimizers:\n",
    "        criterion = nn.CrossEntropyLoss(ignore_index=-1)\n",
    "        optimizer = optimizer\n",
    "\n",
    "        # Initialize the learning rate scheduler\n",
    "        scheduler = ReduceLROnPlateau(optimizer, 'min', patience=2, factor=0.1, verbose=True)\n",
    "\n",
    "        # Training loop\n",
    "        train_acc_history = []\n",
    "        val_acc_history = []\n",
    "        num_epochs = 20\n",
    "\n",
    "        print(f\"Batch size: {batch_size}, Optimizer: {type(optimizer).__name__}\")\n",
    "\n",
    "        for epoch in range(num_epochs):\n",
    "            running_loss = 0.0\n",
    "            tic = time.time()\n",
    "\n",
    "            # Training loop\n",
    "            correct = 0\n",
    "            total = 0\n",
    "            progress_bar = tqdm(trainloader, desc=f\"Epoch {epoch+1}/{num_epochs}\", unit=\"batch\")\n",
    "            for i, data in enumerate(progress_bar):\n",
    "                inputs, labels = data[0].to(device), data[1].to(device)\n",
    "\n",
    "                optimizer.zero_grad()\n",
    "\n",
    "                outputs = model(inputs)\n",
    "                labels = labels.unsqueeze(1).unsqueeze(2)  # Reshape labels to 3D tensor\n",
    "                loss = criterion(outputs, labels)\n",
    "                loss.backward()\n",
    "                optimizer.step()\n",
    "\n",
    "                running_loss += loss.item()\n",
    "                _, predicted = torch.max(outputs.data, 1)\n",
    "                total += labels.size(0)\n",
    "                correct += (predicted == labels.squeeze()).sum().item()\n",
    "                progress_bar.set_postfix(loss=running_loss / (i+1), accuracy=100 * correct / total)\n",
    "\n",
    "            train_acc = 100 * correct / total\n",
    "            train_acc_history.append(train_acc)\n",
    "\n",
    "            # Validation loop\n",
    "            correct = 0\n",
    "            total = 0\n",
    "            for i, data in enumerate(testloader, 0):\n",
    "                inputs, labels = data[0].to(device), data[1].to(device)\n",
    "                outputs = model(inputs)\n",
    "                _, predicted = torch.max(outputs.data, 1)\n",
    "                total += labels.size(0)\n",
    "                correct += (predicted == labels).sum().item()\n",
    "            val_acc = 100 * correct / total\n",
    "            val_acc_history.append(val_acc)\n",
    "\n",
    "            # Update the learning rate scheduler\n",
    "            scheduler.step(running_loss / len(trainloader))\n",
    "\n",
    "            print(f'[Epoch {epoch + 1}] train={train_acc:.6f} val={val_acc:.6f} loss={running_loss / len(trainloader):.6f} time: {time.time() - tic:.6f}')\n",
    "\n",
    "        # Plot the training and validation accuracy\n",
    "        import matplotlib.pyplot as plt\n",
    "        plt.figure(figsize=(10, 6))\n",
    "        plt.plot(train_acc_history, label='Training Accuracy')\n",
    "        plt.plot(val_acc_history, label='Validation Accuracy')\n",
    "        plt.xlabel('Epoch')\n",
    "        plt.ylabel('Accuracy (%)')\n",
    "        plt.title('Training and Validation Accuracy')\n",
    "        plt.legend()\n",
    "        plt.show()"
   ]
  },
  {
   "cell_type": "code",
   "execution_count": null,
   "id": "2786b851-0979-4973-99a2-73ac27440613",
   "metadata": {},
   "outputs": [],
   "source": []
  },
  {
   "cell_type": "code",
   "execution_count": null,
   "id": "f64324da-6e1d-4411-ad9a-b048eba760a6",
   "metadata": {},
   "outputs": [],
   "source": []
  },
  {
   "cell_type": "code",
   "execution_count": null,
   "id": "384c9897-6e02-4092-bbd4-b48a4171eeea",
   "metadata": {},
   "outputs": [],
   "source": []
  },
  {
   "cell_type": "code",
   "execution_count": null,
   "id": "b9f2c67a-be1a-40d2-957b-785d88ce89b9",
   "metadata": {},
   "outputs": [],
   "source": []
  },
  {
   "cell_type": "code",
   "execution_count": null,
   "id": "b8631d8f-5a6e-43a6-9456-a126e8be7dc1",
   "metadata": {},
   "outputs": [],
   "source": []
  },
  {
   "cell_type": "code",
   "execution_count": null,
   "id": "56be75f6-9f60-41db-9d04-8d084795d823",
   "metadata": {},
   "outputs": [],
   "source": []
  },
  {
   "cell_type": "code",
   "execution_count": null,
   "id": "42212053-ea39-4bee-a865-067e2d957bd5",
   "metadata": {},
   "outputs": [],
   "source": []
  },
  {
   "cell_type": "code",
   "execution_count": null,
   "id": "6bc88857-554a-48dd-81c8-33373c360a15",
   "metadata": {},
   "outputs": [],
   "source": []
  }
 ],
 "metadata": {
  "kernelspec": {
   "display_name": "my_env",
   "language": "python",
   "name": "my_env"
  },
  "language_info": {
   "codemirror_mode": {
    "name": "ipython",
    "version": 3
   },
   "file_extension": ".py",
   "mimetype": "text/x-python",
   "name": "python",
   "nbconvert_exporter": "python",
   "pygments_lexer": "ipython3",
   "version": "3.12.1"
  }
 },
 "nbformat": 4,
 "nbformat_minor": 5
}
